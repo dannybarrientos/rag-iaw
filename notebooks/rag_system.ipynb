{
 "cells": [
  {
   "cell_type": "markdown",
   "id": "8086ae44-8b99-4571-9823-aae14d540d85",
   "metadata": {},
   "source": [
    "# Sistema RAG para Documento Bre-B\n"
   ]
  },
  {
   "cell_type": "markdown",
   "id": "96fd87df-0b32-4c74-a44d-cb3072fdf84b",
   "metadata": {},
   "source": [
    "## Configuración\n",
    "\n",
    "Este notebook implementa un sistema básico de Recuperación Aumentada por Generación (RAG) utilizando componentes de LangChain y modelos de Hugging Face. Es un punto de partida para entender el flujo RAG.\n"
   ]
  },
  {
   "cell_type": "markdown",
   "id": "b9d2064d-ffd0-4660-9a4a-80a55b283415",
   "metadata": {},
   "source": [
    "\n",
    "### Pasos Previos y Configuración del Entorno\n",
    "\n",
    "Para ejecutar este cuaderno, necesitas tener **Python** (se recomienda Python 3.9 o superior) y, preferiblemente, **Conda** para una gestión de entorno aislada y eficiente.\n"
   ]
  },
  {
   "cell_type": "markdown",
   "id": "b85b2c39-fd52-416e-8b3a-2f1e3cb48ff1",
   "metadata": {},
   "source": [
    "#### Crear y Activar un Entorno Conda (Recomendado)\n",
    "\n",
    "Si tienes Conda, es la mejor manera de asegurar que todas las dependencias se instalen correctamente sin conflictos con otros proyectos.\n",
    "\n",
    "```bash\n",
    "# Abre tu terminal o Anaconda Prompt y ejecuta:\n",
    "conda create -n rag-current-env python=3.9 -y\n",
    "conda activate rag-current-env"
   ]
  },
  {
   "cell_type": "markdown",
   "id": "f430f832-a04b-404a-8151-0546a4bda18a",
   "metadata": {},
   "source": [
    "### Instalación de Librerías Necesarias\n",
    "\n",
    "Asegúrate de tener estas librerías instaladas en tu entorno."
   ]
  },
  {
   "cell_type": "code",
   "execution_count": 29,
   "id": "b6366ec4-e8b5-446a-ba58-f671eac230f0",
   "metadata": {
    "scrolled": true
   },
   "outputs": [
    {
     "name": "stdout",
     "output_type": "stream",
     "text": [
      "Requirement already satisfied: langchain in /opt/homebrew/anaconda3/envs/rag-env/lib/python3.9/site-packages (0.3.27)\n",
      "Requirement already satisfied: langchain-core<1.0.0,>=0.3.72 in /opt/homebrew/anaconda3/envs/rag-env/lib/python3.9/site-packages (from langchain) (0.3.72)\n",
      "Requirement already satisfied: langchain-text-splitters<1.0.0,>=0.3.9 in /opt/homebrew/anaconda3/envs/rag-env/lib/python3.9/site-packages (from langchain) (0.3.9)\n",
      "Requirement already satisfied: langsmith>=0.1.17 in /opt/homebrew/anaconda3/envs/rag-env/lib/python3.9/site-packages (from langchain) (0.4.8)\n",
      "Requirement already satisfied: pydantic<3.0.0,>=2.7.4 in /opt/homebrew/anaconda3/envs/rag-env/lib/python3.9/site-packages (from langchain) (2.11.7)\n",
      "Requirement already satisfied: SQLAlchemy<3,>=1.4 in /opt/homebrew/anaconda3/envs/rag-env/lib/python3.9/site-packages (from langchain) (2.0.41)\n",
      "Requirement already satisfied: requests<3,>=2 in /opt/homebrew/anaconda3/envs/rag-env/lib/python3.9/site-packages (from langchain) (2.32.4)\n",
      "Requirement already satisfied: PyYAML>=5.3 in /opt/homebrew/anaconda3/envs/rag-env/lib/python3.9/site-packages (from langchain) (6.0.2)\n",
      "Requirement already satisfied: async-timeout<5.0.0,>=4.0.0 in /opt/homebrew/anaconda3/envs/rag-env/lib/python3.9/site-packages (from langchain) (4.0.3)\n",
      "Requirement already satisfied: tenacity!=8.4.0,<10.0.0,>=8.1.0 in /opt/homebrew/anaconda3/envs/rag-env/lib/python3.9/site-packages (from langchain-core<1.0.0,>=0.3.72->langchain) (8.5.0)\n",
      "Requirement already satisfied: jsonpatch<2.0,>=1.33 in /opt/homebrew/anaconda3/envs/rag-env/lib/python3.9/site-packages (from langchain-core<1.0.0,>=0.3.72->langchain) (1.33)\n",
      "Requirement already satisfied: typing-extensions>=4.7 in /opt/homebrew/anaconda3/envs/rag-env/lib/python3.9/site-packages (from langchain-core<1.0.0,>=0.3.72->langchain) (4.12.2)\n",
      "Requirement already satisfied: packaging>=23.2 in /opt/homebrew/anaconda3/envs/rag-env/lib/python3.9/site-packages (from langchain-core<1.0.0,>=0.3.72->langchain) (23.2)\n",
      "Requirement already satisfied: jsonpointer>=1.9 in /opt/homebrew/anaconda3/envs/rag-env/lib/python3.9/site-packages (from jsonpatch<2.0,>=1.33->langchain-core<1.0.0,>=0.3.72->langchain) (3.0.0)\n",
      "Requirement already satisfied: annotated-types>=0.6.0 in /opt/homebrew/anaconda3/envs/rag-env/lib/python3.9/site-packages (from pydantic<3.0.0,>=2.7.4->langchain) (0.7.0)\n",
      "Requirement already satisfied: pydantic-core==2.33.2 in /opt/homebrew/anaconda3/envs/rag-env/lib/python3.9/site-packages (from pydantic<3.0.0,>=2.7.4->langchain) (2.33.2)\n",
      "Requirement already satisfied: typing-inspection>=0.4.0 in /opt/homebrew/anaconda3/envs/rag-env/lib/python3.9/site-packages (from pydantic<3.0.0,>=2.7.4->langchain) (0.4.1)\n",
      "Requirement already satisfied: charset_normalizer<4,>=2 in /opt/homebrew/anaconda3/envs/rag-env/lib/python3.9/site-packages (from requests<3,>=2->langchain) (3.3.2)\n",
      "Requirement already satisfied: idna<4,>=2.5 in /opt/homebrew/anaconda3/envs/rag-env/lib/python3.9/site-packages (from requests<3,>=2->langchain) (3.7)\n",
      "Requirement already satisfied: urllib3<3,>=1.21.1 in /opt/homebrew/anaconda3/envs/rag-env/lib/python3.9/site-packages (from requests<3,>=2->langchain) (2.5.0)\n",
      "Requirement already satisfied: certifi>=2017.4.17 in /opt/homebrew/anaconda3/envs/rag-env/lib/python3.9/site-packages (from requests<3,>=2->langchain) (2025.7.14)\n",
      "Requirement already satisfied: httpx<1,>=0.23.0 in /opt/homebrew/anaconda3/envs/rag-env/lib/python3.9/site-packages (from langsmith>=0.1.17->langchain) (0.28.1)\n",
      "Requirement already satisfied: orjson<4.0.0,>=3.9.14 in /opt/homebrew/anaconda3/envs/rag-env/lib/python3.9/site-packages (from langsmith>=0.1.17->langchain) (3.11.1)\n",
      "Requirement already satisfied: requests-toolbelt<2.0.0,>=1.0.0 in /opt/homebrew/anaconda3/envs/rag-env/lib/python3.9/site-packages (from langsmith>=0.1.17->langchain) (1.0.0)\n",
      "Requirement already satisfied: zstandard<0.24.0,>=0.23.0 in /opt/homebrew/anaconda3/envs/rag-env/lib/python3.9/site-packages (from langsmith>=0.1.17->langchain) (0.23.0)\n",
      "Requirement already satisfied: anyio in /opt/homebrew/anaconda3/envs/rag-env/lib/python3.9/site-packages (from httpx<1,>=0.23.0->langsmith>=0.1.17->langchain) (4.7.0)\n",
      "Requirement already satisfied: httpcore==1.* in /opt/homebrew/anaconda3/envs/rag-env/lib/python3.9/site-packages (from httpx<1,>=0.23.0->langsmith>=0.1.17->langchain) (1.0.9)\n",
      "Requirement already satisfied: h11>=0.16 in /opt/homebrew/anaconda3/envs/rag-env/lib/python3.9/site-packages (from httpcore==1.*->httpx<1,>=0.23.0->langsmith>=0.1.17->langchain) (0.16.0)\n",
      "Requirement already satisfied: exceptiongroup>=1.0.2 in /opt/homebrew/anaconda3/envs/rag-env/lib/python3.9/site-packages (from anyio->httpx<1,>=0.23.0->langsmith>=0.1.17->langchain) (1.2.0)\n",
      "Requirement already satisfied: sniffio>=1.1 in /opt/homebrew/anaconda3/envs/rag-env/lib/python3.9/site-packages (from anyio->httpx<1,>=0.23.0->langsmith>=0.1.17->langchain) (1.3.0)\n",
      "Requirement already satisfied: transformers in /opt/homebrew/anaconda3/envs/rag-env/lib/python3.9/site-packages (4.54.0)\n",
      "Requirement already satisfied: filelock in /opt/homebrew/anaconda3/envs/rag-env/lib/python3.9/site-packages (from transformers) (3.17.0)\n",
      "Requirement already satisfied: huggingface-hub<1.0,>=0.34.0 in /opt/homebrew/anaconda3/envs/rag-env/lib/python3.9/site-packages (from transformers) (0.34.1)\n",
      "Requirement already satisfied: numpy>=1.17 in /opt/homebrew/anaconda3/envs/rag-env/lib/python3.9/site-packages (from transformers) (1.26.4)\n",
      "Requirement already satisfied: packaging>=20.0 in /opt/homebrew/anaconda3/envs/rag-env/lib/python3.9/site-packages (from transformers) (23.2)\n",
      "Requirement already satisfied: pyyaml>=5.1 in /opt/homebrew/anaconda3/envs/rag-env/lib/python3.9/site-packages (from transformers) (6.0.2)\n",
      "Requirement already satisfied: regex!=2019.12.17 in /opt/homebrew/anaconda3/envs/rag-env/lib/python3.9/site-packages (from transformers) (2024.11.6)\n",
      "Requirement already satisfied: requests in /opt/homebrew/anaconda3/envs/rag-env/lib/python3.9/site-packages (from transformers) (2.32.4)\n",
      "Requirement already satisfied: tokenizers<0.22,>=0.21 in /opt/homebrew/anaconda3/envs/rag-env/lib/python3.9/site-packages (from transformers) (0.21.2)\n",
      "Requirement already satisfied: safetensors>=0.4.3 in /opt/homebrew/anaconda3/envs/rag-env/lib/python3.9/site-packages (from transformers) (0.5.3)\n",
      "Requirement already satisfied: tqdm>=4.27 in /opt/homebrew/anaconda3/envs/rag-env/lib/python3.9/site-packages (from transformers) (4.67.1)\n",
      "Requirement already satisfied: fsspec>=2023.5.0 in /opt/homebrew/anaconda3/envs/rag-env/lib/python3.9/site-packages (from huggingface-hub<1.0,>=0.34.0->transformers) (2025.5.1)\n",
      "Requirement already satisfied: typing-extensions>=3.7.4.3 in /opt/homebrew/anaconda3/envs/rag-env/lib/python3.9/site-packages (from huggingface-hub<1.0,>=0.34.0->transformers) (4.12.2)\n",
      "Requirement already satisfied: hf-xet<2.0.0,>=1.1.3 in /opt/homebrew/anaconda3/envs/rag-env/lib/python3.9/site-packages (from huggingface-hub<1.0,>=0.34.0->transformers) (1.1.5)\n",
      "Requirement already satisfied: charset_normalizer<4,>=2 in /opt/homebrew/anaconda3/envs/rag-env/lib/python3.9/site-packages (from requests->transformers) (3.3.2)\n",
      "Requirement already satisfied: idna<4,>=2.5 in /opt/homebrew/anaconda3/envs/rag-env/lib/python3.9/site-packages (from requests->transformers) (3.7)\n",
      "Requirement already satisfied: urllib3<3,>=1.21.1 in /opt/homebrew/anaconda3/envs/rag-env/lib/python3.9/site-packages (from requests->transformers) (2.5.0)\n",
      "Requirement already satisfied: certifi>=2017.4.17 in /opt/homebrew/anaconda3/envs/rag-env/lib/python3.9/site-packages (from requests->transformers) (2025.7.14)\n",
      "Requirement already satisfied: torch in /opt/homebrew/anaconda3/envs/rag-env/lib/python3.9/site-packages (2.7.1)\n",
      "Requirement already satisfied: filelock in /opt/homebrew/anaconda3/envs/rag-env/lib/python3.9/site-packages (from torch) (3.17.0)\n",
      "Requirement already satisfied: typing-extensions>=4.10.0 in /opt/homebrew/anaconda3/envs/rag-env/lib/python3.9/site-packages (from torch) (4.12.2)\n",
      "Requirement already satisfied: sympy>=1.13.3 in /opt/homebrew/anaconda3/envs/rag-env/lib/python3.9/site-packages (from torch) (1.13.3)\n",
      "Requirement already satisfied: networkx in /opt/homebrew/anaconda3/envs/rag-env/lib/python3.9/site-packages (from torch) (3.2.1)\n",
      "Requirement already satisfied: jinja2 in /opt/homebrew/anaconda3/envs/rag-env/lib/python3.9/site-packages (from torch) (3.1.6)\n",
      "Requirement already satisfied: fsspec in /opt/homebrew/anaconda3/envs/rag-env/lib/python3.9/site-packages (from torch) (2025.5.1)\n",
      "Requirement already satisfied: mpmath<1.4,>=1.1.0 in /opt/homebrew/anaconda3/envs/rag-env/lib/python3.9/site-packages (from sympy>=1.13.3->torch) (1.3.0)\n",
      "Requirement already satisfied: MarkupSafe>=2.0 in /opt/homebrew/anaconda3/envs/rag-env/lib/python3.9/site-packages (from jinja2->torch) (3.0.2)\n",
      "Requirement already satisfied: sentence-transformers in /opt/homebrew/anaconda3/envs/rag-env/lib/python3.9/site-packages (5.0.0)\n",
      "Requirement already satisfied: transformers<5.0.0,>=4.41.0 in /opt/homebrew/anaconda3/envs/rag-env/lib/python3.9/site-packages (from sentence-transformers) (4.54.0)\n",
      "Requirement already satisfied: tqdm in /opt/homebrew/anaconda3/envs/rag-env/lib/python3.9/site-packages (from sentence-transformers) (4.67.1)\n",
      "Requirement already satisfied: torch>=1.11.0 in /opt/homebrew/anaconda3/envs/rag-env/lib/python3.9/site-packages (from sentence-transformers) (2.7.1)\n",
      "Requirement already satisfied: scikit-learn in /opt/homebrew/anaconda3/envs/rag-env/lib/python3.9/site-packages (from sentence-transformers) (1.6.1)\n",
      "Requirement already satisfied: scipy in /opt/homebrew/anaconda3/envs/rag-env/lib/python3.9/site-packages (from sentence-transformers) (1.13.1)\n",
      "Requirement already satisfied: huggingface-hub>=0.20.0 in /opt/homebrew/anaconda3/envs/rag-env/lib/python3.9/site-packages (from sentence-transformers) (0.34.1)\n",
      "Requirement already satisfied: Pillow in /opt/homebrew/anaconda3/envs/rag-env/lib/python3.9/site-packages (from sentence-transformers) (11.3.0)\n",
      "Requirement already satisfied: typing_extensions>=4.5.0 in /opt/homebrew/anaconda3/envs/rag-env/lib/python3.9/site-packages (from sentence-transformers) (4.12.2)\n",
      "Requirement already satisfied: filelock in /opt/homebrew/anaconda3/envs/rag-env/lib/python3.9/site-packages (from transformers<5.0.0,>=4.41.0->sentence-transformers) (3.17.0)\n",
      "Requirement already satisfied: numpy>=1.17 in /opt/homebrew/anaconda3/envs/rag-env/lib/python3.9/site-packages (from transformers<5.0.0,>=4.41.0->sentence-transformers) (1.26.4)\n",
      "Requirement already satisfied: packaging>=20.0 in /opt/homebrew/anaconda3/envs/rag-env/lib/python3.9/site-packages (from transformers<5.0.0,>=4.41.0->sentence-transformers) (23.2)\n",
      "Requirement already satisfied: pyyaml>=5.1 in /opt/homebrew/anaconda3/envs/rag-env/lib/python3.9/site-packages (from transformers<5.0.0,>=4.41.0->sentence-transformers) (6.0.2)\n",
      "Requirement already satisfied: regex!=2019.12.17 in /opt/homebrew/anaconda3/envs/rag-env/lib/python3.9/site-packages (from transformers<5.0.0,>=4.41.0->sentence-transformers) (2024.11.6)\n",
      "Requirement already satisfied: requests in /opt/homebrew/anaconda3/envs/rag-env/lib/python3.9/site-packages (from transformers<5.0.0,>=4.41.0->sentence-transformers) (2.32.4)\n",
      "Requirement already satisfied: tokenizers<0.22,>=0.21 in /opt/homebrew/anaconda3/envs/rag-env/lib/python3.9/site-packages (from transformers<5.0.0,>=4.41.0->sentence-transformers) (0.21.2)\n",
      "Requirement already satisfied: safetensors>=0.4.3 in /opt/homebrew/anaconda3/envs/rag-env/lib/python3.9/site-packages (from transformers<5.0.0,>=4.41.0->sentence-transformers) (0.5.3)\n",
      "Requirement already satisfied: fsspec>=2023.5.0 in /opt/homebrew/anaconda3/envs/rag-env/lib/python3.9/site-packages (from huggingface-hub>=0.20.0->sentence-transformers) (2025.5.1)\n",
      "Requirement already satisfied: hf-xet<2.0.0,>=1.1.3 in /opt/homebrew/anaconda3/envs/rag-env/lib/python3.9/site-packages (from huggingface-hub>=0.20.0->sentence-transformers) (1.1.5)\n",
      "Requirement already satisfied: sympy>=1.13.3 in /opt/homebrew/anaconda3/envs/rag-env/lib/python3.9/site-packages (from torch>=1.11.0->sentence-transformers) (1.13.3)\n",
      "Requirement already satisfied: networkx in /opt/homebrew/anaconda3/envs/rag-env/lib/python3.9/site-packages (from torch>=1.11.0->sentence-transformers) (3.2.1)\n",
      "Requirement already satisfied: jinja2 in /opt/homebrew/anaconda3/envs/rag-env/lib/python3.9/site-packages (from torch>=1.11.0->sentence-transformers) (3.1.6)\n",
      "Requirement already satisfied: mpmath<1.4,>=1.1.0 in /opt/homebrew/anaconda3/envs/rag-env/lib/python3.9/site-packages (from sympy>=1.13.3->torch>=1.11.0->sentence-transformers) (1.3.0)\n",
      "Requirement already satisfied: MarkupSafe>=2.0 in /opt/homebrew/anaconda3/envs/rag-env/lib/python3.9/site-packages (from jinja2->torch>=1.11.0->sentence-transformers) (3.0.2)\n",
      "Requirement already satisfied: charset_normalizer<4,>=2 in /opt/homebrew/anaconda3/envs/rag-env/lib/python3.9/site-packages (from requests->transformers<5.0.0,>=4.41.0->sentence-transformers) (3.3.2)\n",
      "Requirement already satisfied: idna<4,>=2.5 in /opt/homebrew/anaconda3/envs/rag-env/lib/python3.9/site-packages (from requests->transformers<5.0.0,>=4.41.0->sentence-transformers) (3.7)\n",
      "Requirement already satisfied: urllib3<3,>=1.21.1 in /opt/homebrew/anaconda3/envs/rag-env/lib/python3.9/site-packages (from requests->transformers<5.0.0,>=4.41.0->sentence-transformers) (2.5.0)\n",
      "Requirement already satisfied: certifi>=2017.4.17 in /opt/homebrew/anaconda3/envs/rag-env/lib/python3.9/site-packages (from requests->transformers<5.0.0,>=4.41.0->sentence-transformers) (2025.7.14)\n",
      "Requirement already satisfied: joblib>=1.2.0 in /opt/homebrew/anaconda3/envs/rag-env/lib/python3.9/site-packages (from scikit-learn->sentence-transformers) (1.5.1)\n",
      "Requirement already satisfied: threadpoolctl>=3.1.0 in /opt/homebrew/anaconda3/envs/rag-env/lib/python3.9/site-packages (from scikit-learn->sentence-transformers) (3.6.0)\n",
      "Requirement already satisfied: faiss-cpu in /opt/homebrew/anaconda3/envs/rag-env/lib/python3.9/site-packages (1.11.0.post1)\n",
      "Requirement already satisfied: numpy<3.0,>=1.25.0 in /opt/homebrew/anaconda3/envs/rag-env/lib/python3.9/site-packages (from faiss-cpu) (1.26.4)\n",
      "Requirement already satisfied: packaging in /opt/homebrew/anaconda3/envs/rag-env/lib/python3.9/site-packages (from faiss-cpu) (23.2)\n",
      "Requirement already satisfied: langchain-community in /opt/homebrew/anaconda3/envs/rag-env/lib/python3.9/site-packages (0.3.27)\n",
      "Requirement already satisfied: langchain-core<1.0.0,>=0.3.66 in /opt/homebrew/anaconda3/envs/rag-env/lib/python3.9/site-packages (from langchain-community) (0.3.72)\n",
      "Requirement already satisfied: langchain<1.0.0,>=0.3.26 in /opt/homebrew/anaconda3/envs/rag-env/lib/python3.9/site-packages (from langchain-community) (0.3.27)\n",
      "Requirement already satisfied: SQLAlchemy<3,>=1.4 in /opt/homebrew/anaconda3/envs/rag-env/lib/python3.9/site-packages (from langchain-community) (2.0.41)\n",
      "Requirement already satisfied: requests<3,>=2 in /opt/homebrew/anaconda3/envs/rag-env/lib/python3.9/site-packages (from langchain-community) (2.32.4)\n",
      "Requirement already satisfied: PyYAML>=5.3 in /opt/homebrew/anaconda3/envs/rag-env/lib/python3.9/site-packages (from langchain-community) (6.0.2)\n",
      "Requirement already satisfied: aiohttp<4.0.0,>=3.8.3 in /opt/homebrew/anaconda3/envs/rag-env/lib/python3.9/site-packages (from langchain-community) (3.12.14)\n",
      "Requirement already satisfied: tenacity!=8.4.0,<10,>=8.1.0 in /opt/homebrew/anaconda3/envs/rag-env/lib/python3.9/site-packages (from langchain-community) (8.5.0)\n",
      "Requirement already satisfied: dataclasses-json<0.7,>=0.5.7 in /opt/homebrew/anaconda3/envs/rag-env/lib/python3.9/site-packages (from langchain-community) (0.6.7)\n",
      "Requirement already satisfied: pydantic-settings<3.0.0,>=2.4.0 in /opt/homebrew/anaconda3/envs/rag-env/lib/python3.9/site-packages (from langchain-community) (2.10.1)\n",
      "Requirement already satisfied: langsmith>=0.1.125 in /opt/homebrew/anaconda3/envs/rag-env/lib/python3.9/site-packages (from langchain-community) (0.4.8)\n",
      "Requirement already satisfied: httpx-sse<1.0.0,>=0.4.0 in /opt/homebrew/anaconda3/envs/rag-env/lib/python3.9/site-packages (from langchain-community) (0.4.1)\n",
      "Requirement already satisfied: numpy>=1.26.2 in /opt/homebrew/anaconda3/envs/rag-env/lib/python3.9/site-packages (from langchain-community) (1.26.4)\n",
      "Requirement already satisfied: aiohappyeyeballs>=2.5.0 in /opt/homebrew/anaconda3/envs/rag-env/lib/python3.9/site-packages (from aiohttp<4.0.0,>=3.8.3->langchain-community) (2.6.1)\n",
      "Requirement already satisfied: aiosignal>=1.4.0 in /opt/homebrew/anaconda3/envs/rag-env/lib/python3.9/site-packages (from aiohttp<4.0.0,>=3.8.3->langchain-community) (1.4.0)\n",
      "Requirement already satisfied: async-timeout<6.0,>=4.0 in /opt/homebrew/anaconda3/envs/rag-env/lib/python3.9/site-packages (from aiohttp<4.0.0,>=3.8.3->langchain-community) (4.0.3)\n",
      "Requirement already satisfied: attrs>=17.3.0 in /opt/homebrew/anaconda3/envs/rag-env/lib/python3.9/site-packages (from aiohttp<4.0.0,>=3.8.3->langchain-community) (24.3.0)\n",
      "Requirement already satisfied: frozenlist>=1.1.1 in /opt/homebrew/anaconda3/envs/rag-env/lib/python3.9/site-packages (from aiohttp<4.0.0,>=3.8.3->langchain-community) (1.7.0)\n",
      "Requirement already satisfied: multidict<7.0,>=4.5 in /opt/homebrew/anaconda3/envs/rag-env/lib/python3.9/site-packages (from aiohttp<4.0.0,>=3.8.3->langchain-community) (6.6.3)\n",
      "Requirement already satisfied: propcache>=0.2.0 in /opt/homebrew/anaconda3/envs/rag-env/lib/python3.9/site-packages (from aiohttp<4.0.0,>=3.8.3->langchain-community) (0.3.2)\n",
      "Requirement already satisfied: yarl<2.0,>=1.17.0 in /opt/homebrew/anaconda3/envs/rag-env/lib/python3.9/site-packages (from aiohttp<4.0.0,>=3.8.3->langchain-community) (1.20.1)\n",
      "Requirement already satisfied: marshmallow<4.0.0,>=3.18.0 in /opt/homebrew/anaconda3/envs/rag-env/lib/python3.9/site-packages (from dataclasses-json<0.7,>=0.5.7->langchain-community) (3.26.1)\n",
      "Requirement already satisfied: typing-inspect<1,>=0.4.0 in /opt/homebrew/anaconda3/envs/rag-env/lib/python3.9/site-packages (from dataclasses-json<0.7,>=0.5.7->langchain-community) (0.9.0)\n",
      "Requirement already satisfied: langchain-text-splitters<1.0.0,>=0.3.9 in /opt/homebrew/anaconda3/envs/rag-env/lib/python3.9/site-packages (from langchain<1.0.0,>=0.3.26->langchain-community) (0.3.9)\n",
      "Requirement already satisfied: pydantic<3.0.0,>=2.7.4 in /opt/homebrew/anaconda3/envs/rag-env/lib/python3.9/site-packages (from langchain<1.0.0,>=0.3.26->langchain-community) (2.11.7)\n",
      "Requirement already satisfied: jsonpatch<2.0,>=1.33 in /opt/homebrew/anaconda3/envs/rag-env/lib/python3.9/site-packages (from langchain-core<1.0.0,>=0.3.66->langchain-community) (1.33)\n",
      "Requirement already satisfied: typing-extensions>=4.7 in /opt/homebrew/anaconda3/envs/rag-env/lib/python3.9/site-packages (from langchain-core<1.0.0,>=0.3.66->langchain-community) (4.12.2)\n",
      "Requirement already satisfied: packaging>=23.2 in /opt/homebrew/anaconda3/envs/rag-env/lib/python3.9/site-packages (from langchain-core<1.0.0,>=0.3.66->langchain-community) (23.2)\n",
      "Requirement already satisfied: jsonpointer>=1.9 in /opt/homebrew/anaconda3/envs/rag-env/lib/python3.9/site-packages (from jsonpatch<2.0,>=1.33->langchain-core<1.0.0,>=0.3.66->langchain-community) (3.0.0)\n",
      "Requirement already satisfied: annotated-types>=0.6.0 in /opt/homebrew/anaconda3/envs/rag-env/lib/python3.9/site-packages (from pydantic<3.0.0,>=2.7.4->langchain<1.0.0,>=0.3.26->langchain-community) (0.7.0)\n",
      "Requirement already satisfied: pydantic-core==2.33.2 in /opt/homebrew/anaconda3/envs/rag-env/lib/python3.9/site-packages (from pydantic<3.0.0,>=2.7.4->langchain<1.0.0,>=0.3.26->langchain-community) (2.33.2)\n",
      "Requirement already satisfied: typing-inspection>=0.4.0 in /opt/homebrew/anaconda3/envs/rag-env/lib/python3.9/site-packages (from pydantic<3.0.0,>=2.7.4->langchain<1.0.0,>=0.3.26->langchain-community) (0.4.1)\n",
      "Requirement already satisfied: python-dotenv>=0.21.0 in /opt/homebrew/anaconda3/envs/rag-env/lib/python3.9/site-packages (from pydantic-settings<3.0.0,>=2.4.0->langchain-community) (1.1.1)\n",
      "Requirement already satisfied: charset_normalizer<4,>=2 in /opt/homebrew/anaconda3/envs/rag-env/lib/python3.9/site-packages (from requests<3,>=2->langchain-community) (3.3.2)\n",
      "Requirement already satisfied: idna<4,>=2.5 in /opt/homebrew/anaconda3/envs/rag-env/lib/python3.9/site-packages (from requests<3,>=2->langchain-community) (3.7)\n",
      "Requirement already satisfied: urllib3<3,>=1.21.1 in /opt/homebrew/anaconda3/envs/rag-env/lib/python3.9/site-packages (from requests<3,>=2->langchain-community) (2.5.0)\n",
      "Requirement already satisfied: certifi>=2017.4.17 in /opt/homebrew/anaconda3/envs/rag-env/lib/python3.9/site-packages (from requests<3,>=2->langchain-community) (2025.7.14)\n",
      "Requirement already satisfied: mypy-extensions>=0.3.0 in /opt/homebrew/anaconda3/envs/rag-env/lib/python3.9/site-packages (from typing-inspect<1,>=0.4.0->dataclasses-json<0.7,>=0.5.7->langchain-community) (1.1.0)\n",
      "Requirement already satisfied: httpx<1,>=0.23.0 in /opt/homebrew/anaconda3/envs/rag-env/lib/python3.9/site-packages (from langsmith>=0.1.125->langchain-community) (0.28.1)\n",
      "Requirement already satisfied: orjson<4.0.0,>=3.9.14 in /opt/homebrew/anaconda3/envs/rag-env/lib/python3.9/site-packages (from langsmith>=0.1.125->langchain-community) (3.11.1)\n",
      "Requirement already satisfied: requests-toolbelt<2.0.0,>=1.0.0 in /opt/homebrew/anaconda3/envs/rag-env/lib/python3.9/site-packages (from langsmith>=0.1.125->langchain-community) (1.0.0)\n",
      "Requirement already satisfied: zstandard<0.24.0,>=0.23.0 in /opt/homebrew/anaconda3/envs/rag-env/lib/python3.9/site-packages (from langsmith>=0.1.125->langchain-community) (0.23.0)\n",
      "Requirement already satisfied: anyio in /opt/homebrew/anaconda3/envs/rag-env/lib/python3.9/site-packages (from httpx<1,>=0.23.0->langsmith>=0.1.125->langchain-community) (4.7.0)\n",
      "Requirement already satisfied: httpcore==1.* in /opt/homebrew/anaconda3/envs/rag-env/lib/python3.9/site-packages (from httpx<1,>=0.23.0->langsmith>=0.1.125->langchain-community) (1.0.9)\n",
      "Requirement already satisfied: h11>=0.16 in /opt/homebrew/anaconda3/envs/rag-env/lib/python3.9/site-packages (from httpcore==1.*->httpx<1,>=0.23.0->langsmith>=0.1.125->langchain-community) (0.16.0)\n",
      "Requirement already satisfied: exceptiongroup>=1.0.2 in /opt/homebrew/anaconda3/envs/rag-env/lib/python3.9/site-packages (from anyio->httpx<1,>=0.23.0->langsmith>=0.1.125->langchain-community) (1.2.0)\n",
      "Requirement already satisfied: sniffio>=1.1 in /opt/homebrew/anaconda3/envs/rag-env/lib/python3.9/site-packages (from anyio->httpx<1,>=0.23.0->langsmith>=0.1.125->langchain-community) (1.3.0)\n"
     ]
    }
   ],
   "source": [
    "!pip install langchain\n",
    "!pip install transformers\n",
    "!pip install torch \n",
    "!pip install sentence-transformers\n",
    "!pip install faiss-cpu\n",
    "!pip install -U langchain-community"
   ]
  },
  {
   "cell_type": "markdown",
   "id": "857565a0-8a1a-4a27-84cd-336ba5ad36d8",
   "metadata": {},
   "source": [
    "### Importar librerías"
   ]
  },
  {
   "cell_type": "code",
   "execution_count": 20,
   "id": "403bc7ca-37b4-4a5a-8958-ee08c61e32e9",
   "metadata": {},
   "outputs": [
    {
     "name": "stdout",
     "output_type": "stream",
     "text": [
      "Librerías importadas correctamente.\n"
     ]
    }
   ],
   "source": [
    "import os\n",
    "from langchain.document_loaders import TextLoader\n",
    "from langchain.text_splitter import RecursiveCharacterTextSplitter\n",
    "from langchain.embeddings import HuggingFaceEmbeddings\n",
    "from langchain.vectorstores import FAISS # O Chroma\n",
    "from langchain.chains import RetrievalQA\n",
    "from langchain.llms import HuggingFacePipeline\n",
    "from transformers import AutoModelForCausalLM, AutoTokenizer, pipeline\n",
    "import torch\n",
    "\n",
    "print(\"Librerías importadas correctamente.\")"
   ]
  },
  {
   "cell_type": "markdown",
   "id": "9e7cf3a3-6735-4c98-82e8-f894a30c758d",
   "metadata": {},
   "source": [
    "# 1. Obtener ruta del documento a cargar"
   ]
  },
  {
   "cell_type": "code",
   "execution_count": 30,
   "id": "d9c423fb-1578-4687-ae0f-3711afe3372b",
   "metadata": {},
   "outputs": [
    {
     "name": "stdout",
     "output_type": "stream",
     "text": [
      "/Users/dannybarrientos/Workspace/ia-wompi/rag-iaw/notebooks\n"
     ]
    }
   ],
   "source": [
    "import os\n",
    "print(os.getcwd())"
   ]
  },
  {
   "cell_type": "markdown",
   "id": "8d73e490-f52e-4142-a259-e2c62ba34a24",
   "metadata": {},
   "source": [
    "# 2. Carga del Documento\n",
    "\n",
    "Cargamos el contenido del archivo \"bre_b.txt\" desde la ruta especificada en la estructura del proyecto.\n",
    "La ruta del archivo se ajusta a la estructura Cookiecutter: data/raw/bre_b.txt"
   ]
  },
  {
   "cell_type": "code",
   "execution_count": 23,
   "id": "f33e3852-4eb6-4d6f-a5e5-152eb67b76e3",
   "metadata": {},
   "outputs": [
    {
     "name": "stdout",
     "output_type": "stream",
     "text": [
      "Documento '../data/raw/bre-b.txt' cargado exitosamente. Número de páginas/documentos: 1\n"
     ]
    }
   ],
   "source": [
    "# La ruta del archivo se ajusta a la estructura del proyecto.\n",
    "# Asegúrate de que el archivo 'bre-b.txt' esté en la ubicación correcta.\n",
    "file_path = \"../data/raw/bre-b.txt\"\n",
    "\n",
    "try:\n",
    "    # `TextLoader` es la clase de LangChain para leer archivos de texto.\n",
    "    # Usamos `encoding='latin-1'` para manejar caracteres especiales.\n",
    "    loader = TextLoader(file_path, encoding='latin-1')\n",
    "    documents = loader.load() # Carga el contenido en la variable `documents`.\n",
    "    print(f\"Documento '{file_path}' cargado exitosamente. Número de páginas/documentos: {len(documents)}\")\n",
    "except FileNotFoundError:\n",
    "    print(f\"Error: El archivo '{file_path}' no se encontró. Asegúrate de que esté en la ubicación correcta.\")\n",
    "except UnicodeDecodeError as e:\n",
    "    print(f\"Error de codificación al leer el archivo: {e}\")\n",
    "    print(\"Intenta cambiar la codificación (por ejemplo, a 'latin-1' o 'cp1252').\")\n",
    "except Exception as e:\n",
    "    print(f\"Ocurrió un error inesperado durante la carga del documento: {e}\")"
   ]
  },
  {
   "cell_type": "markdown",
   "id": "56b2cfba-e1e5-4259-a50d-6c60e03e4293",
   "metadata": {},
   "source": [
    "# 3. Segmentación del Texto (Chunking)\n",
    "\n",
    "Dividimos el documento en \"chunks\" más pequeños para un mejor procesamiento.\n",
    "Esto ayuda a que el modelo de embedding sea más preciso y a que el LLM maneje el contexto."
   ]
  },
  {
   "cell_type": "code",
   "execution_count": 24,
   "id": "2c936383-5d83-4cab-b0ce-6a91c40d712d",
   "metadata": {},
   "outputs": [
    {
     "name": "stdout",
     "output_type": "stream",
     "text": [
      "\n",
      "Documento segmentado en 34 chunks.\n"
     ]
    }
   ],
   "source": [
    "# `RecursiveCharacterTextSplitter` divide el texto de forma inteligente.\n",
    "text_splitter = RecursiveCharacterTextSplitter(\n",
    "    chunk_size=1000,      # Cada fragmento tendrá un máximo de 1000 caracteres.\n",
    "    chunk_overlap=100,    # Los fragmentos se superpondrán en 100 caracteres para mantener el contexto.\n",
    "    length_function=len,\n",
    "    add_start_index=True\n",
    ")\n",
    "\n",
    "chunks = text_splitter.split_documents(documents) # Realiza la segmentación.\n",
    "print(f\"\\nDocumento segmentado en {len(chunks)} chunks.\")"
   ]
  },
  {
   "cell_type": "markdown",
   "id": "cca991f5-fb33-49a1-bce1-dcae377a169a",
   "metadata": {},
   "source": [
    "# 4. Generación de Embeddings y Creación del Vector Store\n",
    "---------------------------------------------------\n",
    "Convertimos los chunks de texto en embeddings (vectores numéricos) y los almacenamos en un vector store (FAISS) para búsqueda de similitud.\n",
    "Se utiliza un modelo de embeddings pre-entrenado de Hugging Face.\n",
    "Este modelo se descargará la primera vez que se ejecute."
   ]
  },
  {
   "cell_type": "code",
   "execution_count": 25,
   "id": "c5523d3c-7d5d-4bfe-a437-645b890bb929",
   "metadata": {},
   "outputs": [
    {
     "name": "stderr",
     "output_type": "stream",
     "text": [
      "/opt/homebrew/anaconda3/envs/rag-env/lib/python3.9/site-packages/torch/nn/modules/module.py:1750: FutureWarning: `encoder_attention_mask` is deprecated and will be removed in version 4.55.0 for `BertSdpaSelfAttention.forward`.\n",
      "  return forward_call(*args, **kwargs)\n"
     ]
    },
    {
     "name": "stdout",
     "output_type": "stream",
     "text": [
      "\n",
      "Embeddings generados y FAISS vector store creado exitosamente.\n"
     ]
    }
   ],
   "source": [
    "embeddings = HuggingFaceEmbeddings(model_name=\"sentence-transformers/all-MiniLM-L6-v2\")\n",
    "\n",
    "# Creamos el vector store FAISS a partir de los chunks y los embeddings.\n",
    "# FAISS es una librería para búsqueda eficiente de similitud en grandes bases de datos de vectores.\n",
    "db = FAISS.from_documents(chunks, embeddings)\n",
    "\n",
    "print(\"\\nEmbeddings generados y FAISS vector store creado exitosamente.\")"
   ]
  },
  {
   "cell_type": "markdown",
   "id": "b49cdb08-db25-4135-86b2-431ead38a60a",
   "metadata": {},
   "source": [
    "# 5. Uso de un LLM (Hugging Face Pipeline)\n",
    "---------------------------------------\n",
    "Configuramos el Large Language Model (LLM) que usaremos para generar las respuestas"
   ]
  },
  {
   "cell_type": "code",
   "execution_count": 26,
   "id": "2ff83097-1822-4c3d-bbb7-9d7cb3525786",
   "metadata": {
    "scrolled": true
   },
   "outputs": [
    {
     "name": "stdout",
     "output_type": "stream",
     "text": [
      "\n",
      "Configurando el Large Language Model (LLM)...\n"
     ]
    },
    {
     "name": "stderr",
     "output_type": "stream",
     "text": [
      "Device set to use cpu\n",
      "The following generation flags are not valid and may be ignored: ['temperature']. Set `TRANSFORMERS_VERBOSITY=info` for more details.\n"
     ]
    },
    {
     "name": "stdout",
     "output_type": "stream",
     "text": [
      "Usando dispositivo: CPU\n",
      "LLM configurado exitosamente.\n"
     ]
    }
   ],
   "source": [
    "print(\"\\nConfigurando el Large Language Model (LLM)...\")\n",
    "\n",
    "model_id = \"google/flan-t5-small\"\n",
    "\n",
    "from transformers import AutoModelForSeq2SeqLM, AutoTokenizer, pipeline \n",
    "\n",
    "tokenizer = AutoTokenizer.from_pretrained(model_id)\n",
    "model = AutoModelForSeq2SeqLM.from_pretrained(model_id,\n",
    "                                             torch_dtype=torch.float32)\n",
    "\n",
    "device = 0 if torch.cuda.is_available() else -1\n",
    "print(f\"Usando dispositivo: {'GPU' if device == 0 else 'CPU'}\")\n",
    "\n",
    "pipe = pipeline(\n",
    "    \"text2text-generation\",\n",
    "    model=model,\n",
    "    tokenizer=tokenizer,\n",
    "    max_new_tokens=512,\n",
    "    temperature=0.1,\n",
    "    device=device\n",
    ")\n",
    "\n",
    "llm = HuggingFacePipeline(pipeline=pipe)\n",
    "\n",
    "print(\"LLM configurado exitosamente.\")"
   ]
  },
  {
   "cell_type": "markdown",
   "id": "a47c1c59-f721-48f9-82f2-5e6bf55bbd37",
   "metadata": {},
   "source": [
    "# Sección para Realizar Preguntas al Documento\n",
    "   ---------------------------------------------\n",
    "Esta sección permitirá interactuar con el sistema, hacer preguntas y obtener respuestas\n",
    "con referencias a los chunks originales.\n"
   ]
  },
  {
   "cell_type": "code",
   "execution_count": null,
   "id": "c6db84e6-aa12-41c6-84cd-09fbbbb89232",
   "metadata": {},
   "outputs": [
    {
     "name": "stdout",
     "output_type": "stream",
     "text": [
      "\n",
      "--- ¡Sistema RAG listo para recibir preguntas! ---\n",
      "Escribe 'salir' en cualquier momento para terminar.\n",
      "\n"
     ]
    },
    {
     "name": "stdin",
     "output_type": "stream",
     "text": [
      "Tu pregunta:  Que es bre-b?\n"
     ]
    },
    {
     "name": "stderr",
     "output_type": "stream",
     "text": [
      "/var/folders/2c/h9s5jckx3491cqs2ch9zgxv00000gn/T/ipykernel_82338/3438884223.py:27: LangChainDeprecationWarning: The method `Chain.__call__` was deprecated in langchain 0.1.0 and will be removed in 1.0. Use :meth:`~invoke` instead.\n",
      "  result = qa_chain({\"query\": query})\n",
      "/opt/homebrew/anaconda3/envs/rag-env/lib/python3.9/site-packages/torch/nn/modules/module.py:1750: FutureWarning: `encoder_attention_mask` is deprecated and will be removed in version 4.55.0 for `BertSdpaSelfAttention.forward`.\n",
      "  return forward_call(*args, **kwargs)\n",
      "Token indices sequence length is longer than the specified maximum sequence length for this model (1272 > 512). Running this sequence through the model will result in indexing errors\n",
      "The following generation flags are not valid and may be ignored: ['temperature']. Set `TRANSFORMERS_VERBOSITY=info` for more details.\n"
     ]
    },
    {
     "name": "stdout",
     "output_type": "stream",
     "text": [
      "Buscando y generando respuesta...\n",
      "\n",
      "**Respuesta:**\n",
      "Qué valor máximo por transacción en Bre-B es de 1.000 unidades de valor básico (UVB) del ao en curso.\n",
      "\n",
      "**--- Fuentes Utilizadas del Documento ---**\n",
      "Chunk 1:\n",
      "  Contenido inicial: \"¿Bre-B será una nueva aplicación para pasar plata?\n",
      "No, para usar Bre-B no tendrás que descargar ninguna aplicación. En el segundo semestre de 2025 vas a ver una opción dentro de las aplicaciones de la...\"\n",
      "------------------------------\n",
      "Chunk 2:\n",
      "  Contenido inicial: \"*El valor máximo por transacción en Bre-B es de 1.000 unidades de valor básico (UVB) del año en curso. Para el 2025 es de COP 11.552.\n",
      "\n",
      "Código QR\n",
      "Bre-B también tiene códigos QR.\n",
      "Solo escanee el código ...\"\n",
      "------------------------------\n",
      "Chunk 3:\n",
      "  Contenido inicial: \"Con Bre-B, sin importar tu entidad financiera, podrás pasar y recibir plata en segundos. Lo único que tendrás que hacer es inscribir tus llaves y elegir a qué cuenta de ahorro, corriente o depósito de...\"\n",
      "------------------------------\n",
      "Chunk 4:\n",
      "  Contenido inicial: \"¿Cómo funcionará Bre-B?\n",
      "Los pagos y transferencias interoperables funcionarán con \"llaves\". Las llaves serán identificadores únicos conectados a tu cuenta bancaria o a tu depósito de bajo monto. Cada ...\"\n",
      "------------------------------\n",
      "\n",
      "==================================================\n",
      "\n"
     ]
    },
    {
     "name": "stdin",
     "output_type": "stream",
     "text": [
      "Tu pregunta:  ¿Bre-B tendrá códigos QR?\n"
     ]
    },
    {
     "name": "stderr",
     "output_type": "stream",
     "text": [
      "/opt/homebrew/anaconda3/envs/rag-env/lib/python3.9/site-packages/torch/nn/modules/module.py:1750: FutureWarning: `encoder_attention_mask` is deprecated and will be removed in version 4.55.0 for `BertSdpaSelfAttention.forward`.\n",
      "  return forward_call(*args, **kwargs)\n",
      "The following generation flags are not valid and may be ignored: ['temperature']. Set `TRANSFORMERS_VERBOSITY=info` for more details.\n"
     ]
    },
    {
     "name": "stdout",
     "output_type": "stream",
     "text": [
      "Buscando y generando respuesta...\n",
      "\n",
      "**Respuesta:**\n",
      "No, to usar Bre-B no tendrás que descargar ninguna aplicación\n",
      "\n",
      "**--- Fuentes Utilizadas del Documento ---**\n",
      "Chunk 1:\n",
      "  Contenido inicial: \"¿Bre-B será una nueva aplicación para pasar plata?\n",
      "No, para usar Bre-B no tendrás que descargar ninguna aplicación. En el segundo semestre de 2025 vas a ver una opción dentro de las aplicaciones de la...\"\n",
      "------------------------------\n",
      "Chunk 2:\n",
      "  Contenido inicial: \"*El valor máximo por transacción en Bre-B es de 1.000 unidades de valor básico (UVB) del año en curso. Para el 2025 es de COP 11.552.\n",
      "\n",
      "Código QR\n",
      "Bre-B también tiene códigos QR.\n",
      "Solo escanee el código ...\"\n",
      "------------------------------\n",
      "Chunk 3:\n",
      "  Contenido inicial: \"Muchas veces, las transferencias entre cuentas bancarias pueden demorarse días y, si haces tus transacciones los fines de semana o festivos, deberás esperar hasta el lunes o martes para que sea efecti...\"\n",
      "------------------------------\n",
      "Chunk 4:\n",
      "  Contenido inicial: \"Con Bre-B, sin importar tu entidad financiera, podrás pasar y recibir plata en segundos. Lo único que tendrás que hacer es inscribir tus llaves y elegir a qué cuenta de ahorro, corriente o depósito de...\"\n",
      "------------------------------\n",
      "\n",
      "==================================================\n",
      "\n"
     ]
    },
    {
     "name": "stdin",
     "output_type": "stream",
     "text": [
      "Tu pregunta:  ¿Cuál es el propósito de Bre-B?\n"
     ]
    },
    {
     "name": "stderr",
     "output_type": "stream",
     "text": [
      "/opt/homebrew/anaconda3/envs/rag-env/lib/python3.9/site-packages/torch/nn/modules/module.py:1750: FutureWarning: `encoder_attention_mask` is deprecated and will be removed in version 4.55.0 for `BertSdpaSelfAttention.forward`.\n",
      "  return forward_call(*args, **kwargs)\n",
      "The following generation flags are not valid and may be ignored: ['temperature']. Set `TRANSFORMERS_VERBOSITY=info` for more details.\n"
     ]
    },
    {
     "name": "stdout",
     "output_type": "stream",
     "text": [
      "Buscando y generando respuesta...\n",
      "\n",
      "**Respuesta:**\n",
      "No, to usar Bre-B no tendrás que descargar ninguna aplicación. En el segundo semestre de 2025 vas a ver una opción dentro de las aplicaciones de las entidades financieras. *El valor máximo por transacción en Bre-B es de 1.000 unidades de valor básico (UVB) del ao en curso. Para el 2025 es de COP 11.552. Código QR\n",
      "\n",
      "**--- Fuentes Utilizadas del Documento ---**\n",
      "Chunk 1:\n",
      "  Contenido inicial: \"¿Bre-B será una nueva aplicación para pasar plata?\n",
      "No, para usar Bre-B no tendrás que descargar ninguna aplicación. En el segundo semestre de 2025 vas a ver una opción dentro de las aplicaciones de la...\"\n",
      "------------------------------\n",
      "Chunk 2:\n",
      "  Contenido inicial: \"*El valor máximo por transacción en Bre-B es de 1.000 unidades de valor básico (UVB) del año en curso. Para el 2025 es de COP 11.552.\n",
      "\n",
      "Código QR\n",
      "Bre-B también tiene códigos QR.\n",
      "Solo escanee el código ...\"\n",
      "------------------------------\n",
      "Chunk 3:\n",
      "  Contenido inicial: \"Con Bre-B, sin importar tu entidad financiera, podrás pasar y recibir plata en segundos. Lo único que tendrás que hacer es inscribir tus llaves y elegir a qué cuenta de ahorro, corriente o depósito de...\"\n",
      "------------------------------\n",
      "Chunk 4:\n",
      "  Contenido inicial: \"¿Cómo funcionará Bre-B?\n",
      "Los pagos y transferencias interoperables funcionarán con \"llaves\". Las llaves serán identificadores únicos conectados a tu cuenta bancaria o a tu depósito de bajo monto. Cada ...\"\n",
      "------------------------------\n",
      "\n",
      "==================================================\n",
      "\n"
     ]
    },
    {
     "name": "stdin",
     "output_type": "stream",
     "text": [
      "Tu pregunta:  ¿Cuál es la función principal de Bre-B?\n"
     ]
    },
    {
     "name": "stderr",
     "output_type": "stream",
     "text": [
      "/opt/homebrew/anaconda3/envs/rag-env/lib/python3.9/site-packages/torch/nn/modules/module.py:1750: FutureWarning: `encoder_attention_mask` is deprecated and will be removed in version 4.55.0 for `BertSdpaSelfAttention.forward`.\n",
      "  return forward_call(*args, **kwargs)\n",
      "The following generation flags are not valid and may be ignored: ['temperature']. Set `TRANSFORMERS_VERBOSITY=info` for more details.\n"
     ]
    },
    {
     "name": "stdout",
     "output_type": "stream",
     "text": [
      "Buscando y generando respuesta...\n",
      "\n",
      "**Respuesta:**\n",
      "1.000 unidades de valor básico (UVB) del ao\n",
      "\n",
      "**--- Fuentes Utilizadas del Documento ---**\n",
      "Chunk 1:\n",
      "  Contenido inicial: \"*El valor máximo por transacción en Bre-B es de 1.000 unidades de valor básico (UVB) del año en curso. Para el 2025 es de COP 11.552.\n",
      "\n",
      "Código QR\n",
      "Bre-B también tiene códigos QR.\n",
      "Solo escanee el código ...\"\n",
      "------------------------------\n",
      "Chunk 2:\n",
      "  Contenido inicial: \"¿Bre-B será una nueva aplicación para pasar plata?\n",
      "No, para usar Bre-B no tendrás que descargar ninguna aplicación. En el segundo semestre de 2025 vas a ver una opción dentro de las aplicaciones de la...\"\n",
      "------------------------------\n",
      "Chunk 3:\n",
      "  Contenido inicial: \"Con Bre-B, sin importar tu entidad financiera, podrás pasar y recibir plata en segundos. Lo único que tendrás que hacer es inscribir tus llaves y elegir a qué cuenta de ahorro, corriente o depósito de...\"\n",
      "------------------------------\n",
      "Chunk 4:\n",
      "  Contenido inicial: \"¿Cómo funcionará Bre-B?\n",
      "Los pagos y transferencias interoperables funcionarán con \"llaves\". Las llaves serán identificadores únicos conectados a tu cuenta bancaria o a tu depósito de bajo monto. Cada ...\"\n",
      "------------------------------\n",
      "\n",
      "==================================================\n",
      "\n"
     ]
    },
    {
     "name": "stdin",
     "output_type": "stream",
     "text": [
      "Tu pregunta:  ¿Cuál es la función principal de Bre-B?\n"
     ]
    },
    {
     "name": "stderr",
     "output_type": "stream",
     "text": [
      "/opt/homebrew/anaconda3/envs/rag-env/lib/python3.9/site-packages/torch/nn/modules/module.py:1750: FutureWarning: `encoder_attention_mask` is deprecated and will be removed in version 4.55.0 for `BertSdpaSelfAttention.forward`.\n",
      "  return forward_call(*args, **kwargs)\n",
      "The following generation flags are not valid and may be ignored: ['temperature']. Set `TRANSFORMERS_VERBOSITY=info` for more details.\n"
     ]
    },
    {
     "name": "stdout",
     "output_type": "stream",
     "text": [
      "Buscando y generando respuesta...\n",
      "\n",
      "**Respuesta:**\n",
      "1.000 unidades de valor básico (UVB) del ao\n",
      "\n",
      "**--- Fuentes Utilizadas del Documento ---**\n",
      "Chunk 1:\n",
      "  Contenido inicial: \"*El valor máximo por transacción en Bre-B es de 1.000 unidades de valor básico (UVB) del año en curso. Para el 2025 es de COP 11.552.\n",
      "\n",
      "Código QR\n",
      "Bre-B también tiene códigos QR.\n",
      "Solo escanee el código ...\"\n",
      "------------------------------\n",
      "Chunk 2:\n",
      "  Contenido inicial: \"¿Bre-B será una nueva aplicación para pasar plata?\n",
      "No, para usar Bre-B no tendrás que descargar ninguna aplicación. En el segundo semestre de 2025 vas a ver una opción dentro de las aplicaciones de la...\"\n",
      "------------------------------\n",
      "Chunk 3:\n",
      "  Contenido inicial: \"Con Bre-B, sin importar tu entidad financiera, podrás pasar y recibir plata en segundos. Lo único que tendrás que hacer es inscribir tus llaves y elegir a qué cuenta de ahorro, corriente o depósito de...\"\n",
      "------------------------------\n",
      "Chunk 4:\n",
      "  Contenido inicial: \"¿Cómo funcionará Bre-B?\n",
      "Los pagos y transferencias interoperables funcionarán con \"llaves\". Las llaves serán identificadores únicos conectados a tu cuenta bancaria o a tu depósito de bajo monto. Cada ...\"\n",
      "------------------------------\n",
      "\n",
      "==================================================\n",
      "\n"
     ]
    }
   ],
   "source": [
    "print(\"\\n--- ¡Sistema RAG listo para recibir preguntas! ---\")\n",
    "print(\"Escribe 'salir' en cualquier momento para terminar.\\n\")\n",
    "\n",
    "qa_chain = RetrievalQA.from_chain_type(\n",
    "    llm=llm,\n",
    "    chain_type=\"stuff\",\n",
    "    retriever=db.as_retriever(), # Permite a LangChain buscar en el vector store\n",
    "    return_source_documents=True # Importante para obtener los chunks que el LLM usó\n",
    ")\n",
    "\n",
    "while True:\n",
    "    query = input(\"Tu pregunta: \")\n",
    "    if query.lower() == 'salir':\n",
    "        print(\"Saliendo del sistema RAG. ¡Adiós!\")\n",
    "        break\n",
    "\n",
    "    print(\"Buscando y generando respuesta...\")\n",
    "    try:\n",
    "        result = qa_chain({\"query\": query})\n",
    "\n",
    "        print(\"\\n**Respuesta:**\")\n",
    "        print(result[\"result\"])\n",
    "\n",
    "        print(\"\\n**--- Fuentes Utilizadas del Documento ---**\")\n",
    "        if result[\"source_documents\"]:\n",
    "            for i, doc in enumerate(result[\"source_documents\"]):\n",
    "                # Imprimimos los primeros 200 caracteres del chunk y su metadata\n",
    "                print(f\"Chunk {i+1}:\")\n",
    "                print(f\"  Contenido inicial: \\\"{doc.page_content[:200]}...\\\"\")\n",
    "                # Si los documentos tuvieran metadata útil (como número de página, título, etc.),\n",
    "                # podrías imprimirla aquí:\n",
    "                # print(f\"  Metadata: {doc.metadata}\")\n",
    "                print(\"-\" * 30)\n",
    "        else:\n",
    "            print(\"No se encontraron fuentes específicas para esta respuesta.\")\n",
    "        print(\"\\n\" + \"=\" * 50 + \"\\n\")\n",
    "\n",
    "    except Exception as e:\n",
    "        print(f\"Ocurrió un error al procesar la pregunta: {e}\")\n",
    "        print(\"Por favor, intenta de nuevo.\")"
   ]
  },
  {
   "cell_type": "code",
   "execution_count": null,
   "id": "0e026ee9-653e-4134-b8b8-1506b5fa6c80",
   "metadata": {},
   "outputs": [],
   "source": []
  }
 ],
 "metadata": {
  "kernelspec": {
   "display_name": "Python 3 (ipykernel)",
   "language": "python",
   "name": "python3"
  },
  "language_info": {
   "codemirror_mode": {
    "name": "ipython",
    "version": 3
   },
   "file_extension": ".py",
   "mimetype": "text/x-python",
   "name": "python",
   "nbconvert_exporter": "python",
   "pygments_lexer": "ipython3",
   "version": "3.9.23"
  }
 },
 "nbformat": 4,
 "nbformat_minor": 5
}
